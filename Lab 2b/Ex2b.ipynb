{
  "metadata": {
    "kernelspec": {
      "name": "python",
      "display_name": "Python (Pyodide)",
      "language": "python"
    },
    "language_info": {
      "codemirror_mode": {
        "name": "python",
        "version": 3
      },
      "file_extension": ".py",
      "mimetype": "text/x-python",
      "name": "python",
      "nbconvert_exporter": "python",
      "pygments_lexer": "ipython3",
      "version": "3.8"
    },
    "colab": {
      "provenance": []
    }
  },
  "nbformat_minor": 5,
  "nbformat": 4,
  "cells": [
    {
      "id": "2b110e93-1abd-483e-931f-b85e6e743dea",
      "cell_type": "markdown",
      "source": "### Step1: Start by importing the necessary Python libraries for data preprocessing.",
      "metadata": {
        "id": "2b110e93-1abd-483e-931f-b85e6e743dea"
      }
    },
    {
      "id": "cc343c65-3dfa-48f5-abb9-0e397badd737",
      "cell_type": "code",
      "source": "import pandas as pd\nimport numpy as np\nimport matplotlib.pyplot as plt\nfrom sklearn.preprocessing import LabelEncoder\nfrom scipy.stats import zscore\nfrom scipy import stats\nfrom sklearn.preprocessing import LabelEncoder\n",
      "metadata": {
        "id": "cc343c65-3dfa-48f5-abb9-0e397badd737",
        "trusted": true
      },
      "outputs": [],
      "execution_count": 31
    },
    {
      "id": "3c75b32b-dd74-4d80-bb8f-cdbe0773ec8f",
      "cell_type": "markdown",
      "source": "### Step 2 Load the placement dataset into a Pandas Dataframe.",
      "metadata": {
        "id": "3c75b32b-dd74-4d80-bb8f-cdbe0773ec8f"
      }
    },
    {
      "id": "17326c71-af37-4481-86ca-1c4c80861e6b",
      "cell_type": "code",
      "source": "data=pd.read_csv(\"Pre.csv\")",
      "metadata": {
        "id": "17326c71-af37-4481-86ca-1c4c80861e6b",
        "trusted": true
      },
      "outputs": [],
      "execution_count": 32
    },
    {
      "id": "924d7cde-8f44-4086-b71a-93102c3bc977",
      "cell_type": "markdown",
      "source": "####  Step 3 : Take a quick look at the data to understand its structure and identify any missing values or anomalies.",
      "metadata": {
        "id": "924d7cde-8f44-4086-b71a-93102c3bc977"
      }
    },
    {
      "id": "d1bb5960-8940-42c9-bf3b-edd2c091b0ae",
      "cell_type": "code",
      "source": "data.info()\nplt.boxplot(data[\"salary\"])\n",
      "metadata": {
        "id": "d1bb5960-8940-42c9-bf3b-edd2c091b0ae",
        "outputId": "3a87a9dd-470d-4e97-d8d8-474f1d68c3b0",
        "trusted": true
      },
      "outputs": [
        {
          "name": "stdout",
          "output_type": "stream",
          "text": "<class 'pandas.core.frame.DataFrame'>\nRangeIndex: 148 entries, 0 to 147\nData columns (total 9 columns):\n #   Column          Non-Null Count  Dtype  \n---  ------          --------------  -----  \n 0   gender          148 non-null    object \n 1   hsc_p           148 non-null    float64\n 2   hsc_s           148 non-null    object \n 3   degree_p        148 non-null    float64\n 4   degree_t        148 non-null    object \n 5   etest_p         148 non-null    float64\n 6   specialisation  148 non-null    object \n 7   mba_p           148 non-null    float64\n 8   salary          148 non-null    float64\ndtypes: float64(5), object(4)\nmemory usage: 8.2+ KB\n"
        },
        {
          "execution_count": 33,
          "output_type": "execute_result",
          "data": {
            "text/plain": "{'whiskers': [<matplotlib.lines.Line2D at 0xaa0de58>,\n  <matplotlib.lines.Line2D at 0xaa0d950>],\n 'caps': [<matplotlib.lines.Line2D at 0xa7e8760>,\n  <matplotlib.lines.Line2D at 0xa7ea898>],\n 'boxes': [<matplotlib.lines.Line2D at 0xaa0be50>],\n 'medians': [<matplotlib.lines.Line2D at 0xa7ea648>],\n 'fliers': [<matplotlib.lines.Line2D at 0xa8280e0>],\n 'means': []}"
          },
          "metadata": {}
        },
        {
          "output_type": "display_data",
          "data": {
            "text/plain": "<Figure size 640x480 with 1 Axes>",
            "image/png": "[encoded data removed]"
          },
          "metadata": {}
        }
      ],
      "execution_count": 33
    },
    {
      "id": "fae6d6a9-9046-414e-8fb3-7771d208ea9e",
      "cell_type": "markdown",
      "source": "#### Step 4  Option 1: Identifying Outliers Using Z-Scores\nThe value of 3 in the context of Z-scores is often used as a threshold to identify outliers in a dataset. A Z-score represents how many standard deviations a data point is away from the mean of the dataset. Specifically:\n\nA Z-score of 0 means the data point is exactly at the mean.\nA Z-score of 1 means the data point is one standard deviation above the mean, and so on.\nA Z-score of 3 corresponds to a data point being 3 standard deviations away from the mean. For a normal distribution, about 99.7% of the data points fall within 3 standard deviations of the mean (according to the 68-95-99.7 rule, which describes the spread of data in a normal distribution). Therefore, points with Z-scores greater than 3 or less than -3 are considered unusually far from the mean and are often flagged as outliers.\n\nThis threshold (Z > 3 or Z < -3) is commonly used in many statistical applications because it captures the extreme values that are rare in a normal distribution, which are typically considered to be outliers. However, the choice of threshold can vary depending on the specific application and the nature of the data.\n\n",
      "metadata": {
        "id": "fae6d6a9-9046-414e-8fb3-7771d208ea9e"
      }
    },
    {
      "id": "f4f8e514-9e7d-40af-a804-507ac3787049",
      "cell_type": "code",
      "source": "colums_to_check = ['salary']\nz_scores = stats.zscore(data[colums_to_check])\nprint(z_scores)\nthreshold = 3\noutlier_indices = (z_scores > threshold).any(axis=1)\nprint(outlier_indices)",
      "metadata": {
        "id": "f4f8e514-9e7d-40af-a804-507ac3787049",
        "outputId": "ad4a5261-b5eb-4c19-8082-154816b28bae",
        "trusted": true
      },
      "outputs": [
        {
          "name": "stdout",
          "output_type": "stream",
          "text": "       salary\n0   -0.200292\n1   -0.951839\n2   -0.415019\n3    1.463849\n4   -0.393547\n..        ...\n143 -0.780057\n144  1.195439\n145 -0.146610\n146  0.068118\n147 -0.908893\n\n[148 rows x 1 columns]\n0      False\n1      False\n2      False\n3      False\n4      False\n       ...  \n143    False\n144    False\n145    False\n146    False\n147    False\nLength: 148, dtype: bool\n"
        }
      ],
      "execution_count": 34
    },
    {
      "id": "8924053b-5700-48e0-83d9-85a6f10939cb",
      "cell_type": "code",
      "source": "columns_to_check = ['salary']\nz_scores = stats.zscore(data[colums_to_check])\nprint(z_scores)\nthreshold = 3\noutlier_indices_u = (z_scores > threshold).any(axis=1)\noutlier_indices_l = (z_scores < -3).any(axis=1)\nprint(outlier_indices)",
      "metadata": {
        "id": "8924053b-5700-48e0-83d9-85a6f10939cb",
        "outputId": "dd8cd556-1866-44b5-c8c3-ac159cee73b7",
        "trusted": true
      },
      "outputs": [
        {
          "name": "stdout",
          "output_type": "stream",
          "text": "       salary\n0   -0.200292\n1   -0.951839\n2   -0.415019\n3    1.463849\n4   -0.393547\n..        ...\n143 -0.780057\n144  1.195439\n145 -0.146610\n146  0.068118\n147 -0.908893\n\n[148 rows x 1 columns]\n0      False\n1      False\n2      False\n3      False\n4      False\n       ...  \n143    False\n144    False\n145    False\n146    False\n147    False\nLength: 148, dtype: bool\n"
        }
      ],
      "execution_count": 35
    },
    {
      "id": "57837ce2-6db8-4cd0-ac22-514e6ad96a03",
      "cell_type": "code",
      "source": "clean=data[~outlier_indices_u]\nprint(len(clean))\nclean.info()",
      "metadata": {
        "id": "57837ce2-6db8-4cd0-ac22-514e6ad96a03",
        "outputId": "eb67b8d8-3fb4-4d98-d8a4-d30556cf9867",
        "trusted": true
      },
      "outputs": [
        {
          "name": "stdout",
          "output_type": "stream",
          "text": "145\n<class 'pandas.core.frame.DataFrame'>\nIndex: 145 entries, 0 to 147\nData columns (total 9 columns):\n #   Column          Non-Null Count  Dtype  \n---  ------          --------------  -----  \n 0   gender          145 non-null    object \n 1   hsc_p           145 non-null    float64\n 2   hsc_s           145 non-null    object \n 3   degree_p        145 non-null    float64\n 4   degree_t        145 non-null    object \n 5   etest_p         145 non-null    float64\n 6   specialisation  145 non-null    object \n 7   mba_p           145 non-null    float64\n 8   salary          145 non-null    float64\ndtypes: float64(5), object(4)\nmemory usage: 9.1+ KB\n"
        }
      ],
      "execution_count": 36
    },
    {
      "id": "6e313b15-6527-46d5-a214-a392336f5c32",
      "cell_type": "markdown",
      "source": "#### Option 2:  Capping and Flooring Outliers",
      "metadata": {
        "id": "6e313b15-6527-46d5-a214-a392336f5c32"
      }
    },
    {
      "id": "23e70f1a-2a4b-4367-aed3-2af0cc3202d7",
      "cell_type": "code",
      "source": "lower_limit = data[columns_to_check].quantile(0.05)\nupper_limit = data[columns_to_check].quantile(0.95)\n\ndf_capped = data.copy()\ndf_capped[columns_to_check] = df_capped[columns_to_check].clip(lower_limit, upper_limit, axis=1)\nprint(df_capped)",
      "metadata": {
        "id": "23e70f1a-2a4b-4367-aed3-2af0cc3202d7",
        "trusted": true
      },
      "outputs": [
        {
          "name": "stdout",
          "output_type": "stream",
          "text": "    gender     hsc_p     hsc_s  degree_p   degree_t   etest_p specialisation  \\\n0        M  0.857051  Commerce  0.057143   Sci&Tech  0.104167         Mkt&HR   \n1        M  0.586729   Science  0.613714   Sci&Tech  0.760417        Mkt&Fin   \n2        M  0.409023      Arts  0.228571  Comm&Mgmt  0.520833        Mkt&Fin   \n3        M  0.485812  Commerce  0.494286  Comm&Mgmt  0.975000        Mkt&Fin   \n4        M  0.280990   Science  0.285714   Sci&Tech  0.354167        Mkt&Fin   \n..     ...       ...       ...       ...        ...       ...            ...   \n143      M  0.451675  Commerce  0.257143  Comm&Mgmt  0.354167        Mkt&Fin   \n144      M  0.665031  Commerce  0.617143  Comm&Mgmt  0.854167        Mkt&Fin   \n145      M  0.195648   Science  0.457143   Sci&Tech  0.500000        Mkt&Fin   \n146      M  0.344997  Commerce  0.485714  Comm&Mgmt  0.187500        Mkt&Fin   \n147      F  0.323661  Commerce  0.057143  Comm&Mgmt  0.416667         Mkt&HR   \n\n     mba_p    salary  \n0    58.80  0.094595  \n1    66.28  0.008243  \n2    57.80  0.067568  \n3    55.50  0.301689  \n4    62.14  0.070270  \n..     ...       ...  \n143  56.49  0.021622  \n144  74.49  0.270270  \n145  53.62  0.101351  \n146  69.72  0.128378  \n147  60.23  0.008243  \n\n[148 rows x 9 columns]\n"
        }
      ],
      "execution_count": 37
    },
    {
      "id": "3678ba11-dc4c-4735-80c6-fe5447ba307f",
      "cell_type": "markdown",
      "source": "### Step 5: Convert categorical variables into numerical format using LabelEncoder ().",
      "metadata": {
        "id": "3678ba11-dc4c-4735-80c6-fe5447ba307f"
      }
    },
    {
      "id": "86d6605d-439f-45db-ac07-b63c1229bfb0",
      "cell_type": "code",
      "source": "L1=LabelEncoder()\ndata[\"hsc_s\"]=L1.fit_transform(data[\"hsc_s\"])\ndata[\"gender\"]=L1.fit_transform(data[\"gender\"])\ndata[\"specialisation\"]=L1.fit_transform(data[\"specialisation\"])\ndata[\"degree_t\"]=L1.fit_transform(data[\"degree_t\"])\ndata.head()",
      "metadata": {
        "id": "86d6605d-439f-45db-ac07-b63c1229bfb0",
        "trusted": true
      },
      "outputs": [
        {
          "execution_count": 38,
          "output_type": "execute_result",
          "data": {
            "text/plain": "   gender     hsc_p  hsc_s  degree_p  degree_t   etest_p  specialisation  \\\n0       1  0.857051      1  0.057143         2  0.104167               1   \n1       1  0.586729      2  0.613714         2  0.760417               0   \n2       1  0.409023      0  0.228571         0  0.520833               0   \n3       1  0.485812      1  0.494286         0  0.975000               0   \n4       1  0.280990      2  0.285714         2  0.354167               0   \n\n   mba_p    salary  \n0  58.80  0.094595  \n1  66.28  0.000000  \n2  57.80  0.067568  \n3  55.50  0.304054  \n4  62.14  0.070270  ",
            "text/html": "<div>\n<style scoped>\n    .dataframe tbody tr th:only-of-type {\n        vertical-align: middle;\n    }\n\n    .dataframe tbody tr th {\n        vertical-align: top;\n    }\n\n    .dataframe thead th {\n        text-align: right;\n    }\n</style>\n<table border=\"1\" class=\"dataframe\">\n  <thead>\n    <tr style=\"text-align: right;\">\n      <th></th>\n      <th>gender</th>\n      <th>hsc_p</th>\n      <th>hsc_s</th>\n      <th>degree_p</th>\n      <th>degree_t</th>\n      <th>etest_p</th>\n      <th>specialisation</th>\n      <th>mba_p</th>\n      <th>salary</th>\n    </tr>\n  </thead>\n  <tbody>\n    <tr>\n      <th>0</th>\n      <td>1</td>\n      <td>0.857051</td>\n      <td>1</td>\n      <td>0.057143</td>\n      <td>2</td>\n      <td>0.104167</td>\n      <td>1</td>\n      <td>58.80</td>\n      <td>0.094595</td>\n    </tr>\n    <tr>\n      <th>1</th>\n      <td>1</td>\n      <td>0.586729</td>\n      <td>2</td>\n      <td>0.613714</td>\n      <td>2</td>\n      <td>0.760417</td>\n      <td>0</td>\n      <td>66.28</td>\n      <td>0.000000</td>\n    </tr>\n    <tr>\n      <th>2</th>\n      <td>1</td>\n      <td>0.409023</td>\n      <td>0</td>\n      <td>0.228571</td>\n      <td>0</td>\n      <td>0.520833</td>\n      <td>0</td>\n      <td>57.80</td>\n      <td>0.067568</td>\n    </tr>\n    <tr>\n      <th>3</th>\n      <td>1</td>\n      <td>0.485812</td>\n      <td>1</td>\n      <td>0.494286</td>\n      <td>0</td>\n      <td>0.975000</td>\n      <td>0</td>\n      <td>55.50</td>\n      <td>0.304054</td>\n    </tr>\n    <tr>\n      <th>4</th>\n      <td>1</td>\n      <td>0.280990</td>\n      <td>2</td>\n      <td>0.285714</td>\n      <td>2</td>\n      <td>0.354167</td>\n      <td>0</td>\n      <td>62.14</td>\n      <td>0.070270</td>\n    </tr>\n  </tbody>\n</table>\n</div>"
          },
          "metadata": {}
        }
      ],
      "execution_count": 38
    },
    {
      "id": "3a5853ed-f4a2-4461-b388-01c747436365",
      "cell_type": "code",
      "source": "data=pd.read_csv(\"Pre.csv\")\ncategorical_cols = ['gender','hsc_s','specialisation','degree_t']\none_hot_encoded_data = pd.get_dummies(\n    data,\n    columns=categorical_cols,\n)\nprint(one_hot_encoded_data)\none_hot_encoded_data.to_csv(\"final.csv\")",
      "metadata": {
        "trusted": true
      },
      "outputs": [
        {
          "name": "stdout",
          "output_type": "stream",
          "text": "        hsc_p  degree_p   etest_p  mba_p    salary  gender_F  gender_M  \\\n0    0.857051  0.057143  0.104167  58.80  0.094595     False      True   \n1    0.586729  0.613714  0.760417  66.28  0.000000     False      True   \n2    0.409023  0.228571  0.520833  57.80  0.067568     False      True   \n3    0.485812  0.494286  0.975000  55.50  0.304054     False      True   \n4    0.280990  0.285714  0.354167  62.14  0.070270     False      True   \n..        ...       ...       ...    ...       ...       ...       ...   \n143  0.451675  0.257143  0.354167  56.49  0.021622     False      True   \n144  0.665031  0.617143  0.854167  74.49  0.270270     False      True   \n145  0.195648  0.457143  0.500000  53.62  0.101351     False      True   \n146  0.344997  0.485714  0.187500  69.72  0.128378     False      True   \n147  0.323661  0.057143  0.416667  60.23  0.005405      True     False   \n\n     hsc_s_Arts  hsc_s_Commerce  hsc_s_Science  specialisation_Mkt&Fin  \\\n0         False            True          False                   False   \n1         False           False           True                    True   \n2          True           False          False                    True   \n3         False            True          False                    True   \n4         False           False           True                    True   \n..          ...             ...            ...                     ...   \n143       False            True          False                    True   \n144       False            True          False                    True   \n145       False           False           True                    True   \n146       False            True          False                    True   \n147       False            True          False                   False   \n\n     specialisation_Mkt&HR  degree_t_Comm&Mgmt  degree_t_Others  \\\n0                     True               False            False   \n1                    False               False            False   \n2                    False                True            False   \n3                    False                True            False   \n4                    False               False            False   \n..                     ...                 ...              ...   \n143                  False                True            False   \n144                  False                True            False   \n145                  False               False            False   \n146                  False                True            False   \n147                   True                True            False   \n\n     degree_t_Sci&Tech  \n0                 True  \n1                 True  \n2                False  \n3                False  \n4                 True  \n..                 ...  \n143              False  \n144              False  \n145               True  \n146              False  \n147              False  \n\n[148 rows x 15 columns]\n"
        }
      ],
      "execution_count": 40
    },
    {
      "id": "abd397c1-887c-4226-800f-77bc9de3fbba",
      "cell_type": "code",
      "source": "",
      "metadata": {
        "trusted": true
      },
      "outputs": [],
      "execution_count": null
    }
  ]
}